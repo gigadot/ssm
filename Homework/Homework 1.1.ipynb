{
 "cells": [
  {
   "cell_type": "markdown",
   "metadata": {},
   "source": [
    "## Homework 1.1 - Electro static potential of a square disc\n",
    "\n",
    "Consider a square region in the $xy$-plane, such that $-1 \\le x \\le 1$ and $-1 \\le y \\le 1$, containing a uniform charge distribution $\\rho$. The electro static potential at the point $(x_p, y_p)$ due to this charge distribution is obtained by integrating over the charged region.\n",
    "\n",
    "$$\\Phi ({x_p},{y_p}) = \\frac{\\rho }{{4\\pi {\\varepsilon _0}}}\\int_{ - 1}^1 {\\int_{ - 1}^1 {\\frac{1}{{\\sqrt {{{(x - {x_p})}^2} + {{(y - {y_p})}^2}} }}} {dxdy} } $$\n",
    "\n",
    "For simplicity, use $\\frac{\\rho }{{4\\pi {\\varepsilon _0}}} = 1$. Evaluate the electric potentials $\\Phi(2, 2)$, $\\Phi(2, 4)$, $\\Phi(5, 10)$ and  $\\Phi(15, 15)$."
   ]
  },
  {
   "cell_type": "markdown",
   "metadata": {},
   "source": [
    "The equation can be reduce to:\n",
    "\n",
    "$$\n",
    "\\Phi ({x_p},{y_p}) = \\int_{ - 1}^1 {\\int_{ - 1}^1 {\\frac{1}{{\\sqrt {{{(x - {x_p})}^2} + {{(y - {y_p})}^2}} }}} {dxdy} }\n",
    "$$"
   ]
  },
  {
   "cell_type": "code",
   "execution_count": 1,
   "metadata": {
    "ExecuteTime": {
     "end_time": "2021-09-20T07:18:45.916328Z",
     "start_time": "2021-09-20T07:18:45.625473Z"
    }
   },
   "outputs": [],
   "source": [
    "from scipy import integrate\n",
    "import numpy as np"
   ]
  },
  {
   "cell_type": "code",
   "execution_count": 2,
   "metadata": {
    "ExecuteTime": {
     "end_time": "2021-09-20T07:18:55.172688Z",
     "start_time": "2021-09-20T07:18:55.155029Z"
    }
   },
   "outputs": [],
   "source": [
    "def func_maker(x_p, y_p):\n",
    "    def func(x, y):\n",
    "        return 1 / np.sqrt((x - x_p)**2 + (y - y_p)**2)\n",
    "    return func\n",
    "\n",
    "\n",
    "def electric_potential(x_p, y_p):\n",
    "    func = func_maker(x_p, y_p)\n",
    "    bounds_y = [-1, 1]\n",
    "    def bounds_x(x): return [-1, 1]\n",
    "    return integrate.nquad(func, [bounds_x, bounds_y])[0]"
   ]
  },
  {
   "cell_type": "code",
   "execution_count": 3,
   "metadata": {
    "ExecuteTime": {
     "end_time": "2021-09-20T07:19:02.042775Z",
     "start_time": "2021-09-20T07:19:02.028032Z"
    }
   },
   "outputs": [
    {
     "name": "stdout",
     "output_type": "stream",
     "text": [
      "Phi(2, 2) --> 1.4493948762686601\n",
      "Phi(2, 4) --> 0.9021779766984398\n",
      "Phi(5, 10) --> 0.358250859760195\n",
      "Phi(15, 15) --> 0.18863186362999226\n"
     ]
    }
   ],
   "source": [
    "lst = [(2, 2), (2, 4), (5, 10), (15, 15)]\n",
    "\n",
    "for val in lst:\n",
    "    print(\"Phi%s --> %s\" % (val, electric_potential(val[0], val[1])))"
   ]
  }
 ],
 "metadata": {
  "kernelspec": {
   "display_name": "Python 3 (ipykernel)",
   "language": "python",
   "name": "python3"
  },
  "language_info": {
   "codemirror_mode": {
    "name": "ipython",
    "version": 3
   },
   "file_extension": ".py",
   "mimetype": "text/x-python",
   "name": "python",
   "nbconvert_exporter": "python",
   "pygments_lexer": "ipython3",
   "version": "3.8.10"
  },
  "toc": {
   "base_numbering": 1,
   "nav_menu": {},
   "number_sections": true,
   "sideBar": true,
   "skip_h1_title": false,
   "title_cell": "Table of Contents",
   "title_sidebar": "Contents",
   "toc_cell": false,
   "toc_position": {},
   "toc_section_display": true,
   "toc_window_display": false
  }
 },
 "nbformat": 4,
 "nbformat_minor": 1
}
