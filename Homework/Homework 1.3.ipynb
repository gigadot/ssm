{
 "cells": [
  {
   "cell_type": "markdown",
   "metadata": {},
   "source": [
    "## Homework 1.3.1 - Pythagorean Problem\n",
    "\n",
    "Consider three bodies of mass, $m1 = 3$, $m_2 = 4$, and $m_3 = 5$, located coordinate $(x, y)$ at $(1, 3)$, $(-2, -1)$ and $(1, -1)$ respectively. All are initially at rest. The interaction between particles are given by Newton's second law of motion and Newton's gravitational law:\n",
    "\n",
    "$${{\\vec F}_i} = {m_i}{a_i} =  - G\\sum\\limits_{i \\ne j} {{m_i}{m_j}\\frac{{{{\\vec r}_i} - {{\\vec r}_j}}}{{{{\\left| {{{\\vec r}_i} - {{\\vec r}_j}} \\right|}^3}}}} $$\n",
    "\n",
    "Using $G = 4 \\pi$, investigate the motion of the particles from $t = 0$ to $t = 10$"
   ]
  },
  {
   "cell_type": "code",
   "execution_count": 1,
   "metadata": {
    "ExecuteTime": {
     "end_time": "2021-09-20T10:10:13.581291Z",
     "start_time": "2021-09-20T10:10:13.181028Z"
    }
   },
   "outputs": [],
   "source": [
    "from scipy.integrate import odeint\n",
    "import matplotlib.pyplot as plt\n",
    "import numpy as np"
   ]
  },
  {
   "cell_type": "code",
   "execution_count": 47,
   "metadata": {
    "ExecuteTime": {
     "end_time": "2021-09-20T10:39:52.373891Z",
     "start_time": "2021-09-20T10:39:52.204127Z"
    }
   },
   "outputs": [
    {
     "data": {
      "image/png": "[encoded data removed]",
      "text/plain": [
       "<Figure size 432x288 with 1 Axes>"
      ]
     },
     "metadata": {
      "needs_background": "light"
     },
     "output_type": "display_data"
    }
   ],
   "source": [
    "G = 4 * np.pi\n",
    "t = 0\n",
    "dt = 0.01\n",
    "\n",
    "T = 10\n",
    "\n",
    "m_1 = 3\n",
    "m_2 = 4\n",
    "m_3 = 5\n",
    "\n",
    "m_1_pos = np.array([1, 3])\n",
    "m_2_pos = np.array([-2, -1])\n",
    "m_3_pos = np.array([1, -1])\n",
    "\n",
    "m_1_p = 0\n",
    "m_2_p = 0\n",
    "m_3_p = 0\n",
    "\n",
    "m_1s = []\n",
    "m_2s = []\n",
    "m_3s = []\n",
    "\n",
    "while t < T:\n",
    "    r_12 = m_2_pos - m_1_pos\n",
    "    r_13 = m_3_pos - m_1_pos\n",
    "    r_23 = m_3_pos - m_2_pos\n",
    "\n",
    "    F_12 = -G * m_1 * m_2 * r_12 / np.linalg.norm(r_12)**2\n",
    "    F_13 = -G * m_1 * m_3 * r_13 / np.linalg.norm(r_13)**2\n",
    "    F_23 = -G * m_2 * m_3 * r_23 / np.linalg.norm(r_23)**2\n",
    "\n",
    "    m_1_p = m_1_p + (-F_12 - F_13) * dt\n",
    "    m_2_p = m_2_p + (F_12 - F_23) * dt\n",
    "    m_3_p = m_3_p + (F_13 + F_23) * dt\n",
    "\n",
    "    m_1_pos = m_1_pos + m_1_p * dt / m_1\n",
    "    m_2_pos = m_2_pos + m_2_p * dt / m_2\n",
    "    m_3_pos = m_3_pos + m_3_p * dt / m_3\n",
    "\n",
    "    m_1s.append(m_1_pos)\n",
    "    m_2s.append(m_2_pos)\n",
    "    m_3s.append(m_3_pos)\n",
    "\n",
    "    t += dt\n",
    "\n",
    "m_1s = np.array(m_1s)\n",
    "m_2s = np.array(m_2s)\n",
    "m_3s = np.array(m_3s)\n",
    "\n",
    "m_1_x = m_1s[:, 0]\n",
    "m_1_y = m_1s[:, 1]\n",
    "m_2_x = m_2s[:, 0]\n",
    "m_2_y = m_2s[:, 1]\n",
    "m_3_x = m_3s[:, 0]\n",
    "m_3_y = m_3s[:, 1]\n",
    "\n",
    "plt.plot(m_1_x, m_1_y, 'r', label='M_1', alpha=0.3)\n",
    "plt.plot(m_2_x, m_2_y, 'g', label='M_2', alpha=0.3)\n",
    "plt.plot(m_3_x, m_3_y, 'b', label='M_3', alpha=0.3)\n",
    "plt.plot(m_1_x[0], m_1_y[0], 'ro')\n",
    "plt.plot(m_2_x[0], m_2_y[0], 'go')\n",
    "plt.plot(m_3_x[0], m_3_y[0], 'bo')\n",
    "plt.legend()\n",
    "plt.grid()"
   ]
  },
  {
   "cell_type": "markdown",
   "metadata": {},
   "source": [
    "___\n",
    "## Homework 1.3.2 - Double Pendulum\n",
    "![alt text](images/double-pendulum.png \"Double Pendulum\")\n",
    "\n",
    "The equations of motion for the double pendulum are given by [wolfram](http://scienceworld.wolfram.com/physics/DoublePendulum.html):\n",
    "\n",
    "$$({m_1} + {m_2}){l_1}{{\\ddot \\theta }_1} + {m_2}{l_2}{{\\ddot \\theta }_2}\\cos ({\\theta _1} - {\\theta _2}) + {m_2}{l_2}{({{\\dot \\theta }_2})^2}\\sin ({\\theta _1} - {\\theta _2}) + ({m_1} + {m_2})g\\sin {\\theta _1} = 0$$\n",
    "\n",
    "$${m_2}{l_2}{{\\ddot \\theta }_2} + {m_2}{l_1}{{\\ddot \\theta }_1}\\cos ({\\theta _1} - {\\theta _2}) - {m_2}{l_1}{({{\\dot \\theta }_1})^2}\\sin ({\\theta _1} - {\\theta _2}) + {m_2}g\\sin {\\theta _2} = 0$$\n",
    "\n",
    "Given that $l_1 = 1$, $l_2 = 2$, $m_1 = 2$, $m_2 = 1$ and $g = 9.8$ $m/s^2$\n",
    "\n",
    "The initial conditions at $t = 0$ are:\n",
    "\n",
    "${{\\theta }_1}(0) = 1.5$\n",
    "\n",
    "${{\\dot \\theta }_1}(0) = 0$\n",
    "\n",
    "${{\\theta }_2}(0) = 3.0$\n",
    "\n",
    "${{\\dot \\theta }_2}(0) = 0.0$\n",
    "\n",
    "Write a program to plots the positions of the mass $m_2$ in $x-y$ coordinate over the time interval $0 \\le t \\le T\\; s$. Where $T$ are:\n",
    "\n",
    "a) 10\n",
    "\n",
    "b) 100"
   ]
  },
  {
   "cell_type": "code",
   "execution_count": null,
   "metadata": {},
   "outputs": [],
   "source": [
    "x = 1.\n",
    "d_x = 0.\n",
    "theta = 0.3\n",
    "d_theta = 0.\n",
    "theta_0 = [x, d_x, theta, d_theta]\n",
    "\n",
    "x_0 = 1\n",
    "k = 3.5\n",
    "m = 0.2\n",
    "g = 9.8\n",
    "\n",
    "t = np.arange(0, 25, 0.01)\n",
    "\n",
    "\n",
    "def func(y, t):  # define vector f(y,t)\n",
    "    x, d_x, theta, d_theta = y\n",
    "    dd_x = (x_0 + x) * d_theta**2 - (k * x / m) + g * np.cos(theta)\n",
    "    dd_theta = -1 * (g * np.sin(theta) + 2 * d_x * d_theta) / (x_0 + x)\n",
    "    return [d_x, dd_x, d_theta, dd_theta]\n",
    "\n",
    "\n",
    "vec = odeint(func, theta_0, t)\n",
    "x = vec[:, 0]\n",
    "d_x = vec[:, 1]\n",
    "theta = vec[:, 2]\n",
    "d_theta = vec[:, 3]\n",
    "\n",
    "fig, axes = plt.subplots(7, 1, figsize=(8, 24))\n",
    "fig.suptitle('Springy Pendulum:')\n",
    "\n",
    "axes[0].plot(t, x)\n",
    "axes[0].set_title(\"x-t\")\n",
    "axes[0].grid()\n",
    "\n",
    "axes[1].plot(t, d_x)\n",
    "axes[1].set_title(\"d_x-t\")\n",
    "axes[1].grid()\n",
    "\n",
    "axes[2].plot(t, theta)\n",
    "axes[2].set_title(\"theta-t\")\n",
    "axes[2].grid()\n",
    "\n",
    "axes[3].plot(t, d_theta)\n",
    "axes[3].set_title(\"d_theta-t\")\n",
    "axes[3].grid()\n",
    "\n",
    "axes[4].plot(x, theta)\n",
    "axes[4].set_title(\"Pendulum Motion x-theta\")\n",
    "axes[4].grid()\n",
    "\n",
    "axes[5].plot(x, d_theta)\n",
    "axes[5].set_title(\"Pendulum Motion x-d_theta\")\n",
    "axes[5].grid()\n",
    "\n",
    "pos_x = (x_0 + x) * np.sin(theta)\n",
    "pos_y = (x_0 + x) * np.cos(theta)\n",
    "axes[6].plot(pos_x, pos_y)\n",
    "axes[6].set_title(\"Pendulum Motion\")\n",
    "axes[6].grid()\n",
    "plt.show()"
   ]
  }
 ],
 "metadata": {
  "kernelspec": {
   "display_name": "Python 3 (ipykernel)",
   "language": "python",
   "name": "python3"
  },
  "language_info": {
   "codemirror_mode": {
    "name": "ipython",
    "version": 3
   },
   "file_extension": ".py",
   "mimetype": "text/x-python",
   "name": "python",
   "nbconvert_exporter": "python",
   "pygments_lexer": "ipython3",
   "version": "3.8.10"
  },
  "toc": {
   "base_numbering": 1,
   "nav_menu": {},
   "number_sections": true,
   "sideBar": true,
   "skip_h1_title": false,
   "title_cell": "Table of Contents",
   "title_sidebar": "Contents",
   "toc_cell": false,
   "toc_position": {},
   "toc_section_display": true,
   "toc_window_display": false
  }
 },
 "nbformat": 4,
 "nbformat_minor": 1
}
