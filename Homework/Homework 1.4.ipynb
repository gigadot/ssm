{
 "cells": [
  {
   "cell_type": "markdown",
   "metadata": {},
   "source": [
    "### Homework 1.4.1 - Shooting Method\n",
    "\n",
    "By using shooting method, solve\n",
    "\n",
    "$$\n",
    "\\frac{d^2 T}{d x^2} + \\alpha (T_0 - T)^4 = 0\n",
    "$$\n",
    "\n",
    "Where $\\alpha = 5\\times10^{-8}$, and $T_0 = 20$, subjected to $T(0) = 50$ and $T(10) = 200$"
   ]
  },
  {
   "cell_type": "code",
   "execution_count": null,
   "metadata": {
    "collapsed": true
   },
   "outputs": [],
   "source": []
  },
  {
   "cell_type": "markdown",
   "metadata": {},
   "source": [
    "___\n",
    "### Homework 1.4.2 - Finite Difference Method\n",
    "\n",
    "Solve Homework 1.4.2 using finite difference method"
   ]
  },
  {
   "cell_type": "code",
   "execution_count": null,
   "metadata": {},
   "outputs": [],
   "source": []
  }
 ],
 "metadata": {
  "kernelspec": {
   "display_name": "Python 3 (ipykernel)",
   "language": "python",
   "name": "python3"
  },
  "language_info": {
   "codemirror_mode": {
    "name": "ipython",
    "version": 3
   },
   "file_extension": ".py",
   "mimetype": "text/x-python",
   "name": "python",
   "nbconvert_exporter": "python",
   "pygments_lexer": "ipython3",
   "version": "3.9.6"
  }
 },
 "nbformat": 4,
 "nbformat_minor": 1
}
