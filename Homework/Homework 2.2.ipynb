{
 "cells": [
  {
   "cell_type": "markdown",
   "id": "cc75b182",
   "metadata": {},
   "source": [
    "### Homework 2.2 - Heat Transfer\n",
    "\n",
    "Use the finite differential method to solve a heat transfer equation, given by\n",
    "\n",
    "$$ \\frac{{\\partial T}}{{\\partial t}} = k\\frac{{{\\partial ^2}T}}{{\\partial {x^2}}} $$\n",
    "\n",
    "where $T(t, x)$ is the temperature distribution function.\n",
    "\n",
    "Solve the equation for $x$ between 0 and 1. At $x=0$ the temperature varies as $T(t,0)=sin(10t)$ and at At $x=1$ the temperature varies as $T(t,0)=e^{ - 100 (t - 0.15)^2}$.\n",
    "\n",
    "Make the animated clip of the temperature distribution function evolution. Pick appropriate time range."
   ]
  },
  {
   "cell_type": "code",
   "execution_count": null,
   "id": "0f9239be",
   "metadata": {},
   "outputs": [],
   "source": []
  }
 ],
 "metadata": {
  "kernelspec": {
   "display_name": "Python 3 (ipykernel)",
   "language": "python",
   "name": "python3"
  },
  "language_info": {
   "codemirror_mode": {
    "name": "ipython",
    "version": 3
   },
   "file_extension": ".py",
   "mimetype": "text/x-python",
   "name": "python",
   "nbconvert_exporter": "python",
   "pygments_lexer": "ipython3",
   "version": "3.9.7"
  }
 },
 "nbformat": 4,
 "nbformat_minor": 5
}
