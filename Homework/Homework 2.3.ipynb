{
 "cells": [
  {
   "cell_type": "markdown",
   "id": "6b72e040",
   "metadata": {},
   "source": [
    "### Homework 2.3 - 2D Temperature Distribution\n",
    "\n",
    "Solve 2D heat equation for the following initial conditions:\n",
    "\n",
    "$$\\begin{array}{l}\n",
    "u(x,0) = \\sin (2\\pi x)\\\\\n",
    "u(x,1) = \\sin (2\\pi x)\\\\\n",
    "u(0,y) = \\sin (3\\pi y)\\\\\n",
    "u(1,y) = \\sin (\\pi y)\n",
    "\\end{array}$$\n",
    "\n",
    "where $u(x, y)$ represent the steady state temperature distribution on 2D plane.\n",
    " \n",
    "Plot the 2D heat map of the solution."
   ]
  },
  {
   "cell_type": "code",
   "execution_count": null,
   "id": "378dcefc",
   "metadata": {},
   "outputs": [],
   "source": []
  }
 ],
 "metadata": {
  "kernelspec": {
   "display_name": "Python 3 (ipykernel)",
   "language": "python",
   "name": "python3"
  },
  "language_info": {
   "codemirror_mode": {
    "name": "ipython",
    "version": 3
   },
   "file_extension": ".py",
   "mimetype": "text/x-python",
   "name": "python",
   "nbconvert_exporter": "python",
   "pygments_lexer": "ipython3",
   "version": "3.9.7"
  }
 },
 "nbformat": 4,
 "nbformat_minor": 5
}
