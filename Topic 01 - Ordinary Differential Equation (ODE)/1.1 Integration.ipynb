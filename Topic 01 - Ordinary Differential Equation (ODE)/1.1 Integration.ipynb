{
 "cells": [
  {
   "cell_type": "code",
   "execution_count": 2,
   "metadata": {
    "ExecuteTime": {
     "end_time": "2021-09-20T07:13:29.090823Z",
     "start_time": "2021-09-20T07:13:28.831879Z"
    }
   },
   "outputs": [],
   "source": [
    "%config Completer.use_jedi = False\n",
    "from scipy import integrate\n",
    "import numpy as np\n",
    "import math"
   ]
  },
  {
   "cell_type": "markdown",
   "metadata": {},
   "source": [
    "## 1.1 Integration with Scipy"
   ]
  },
  {
   "cell_type": "markdown",
   "metadata": {},
   "source": [
    "The scipy.integrate sub-package provides several integration techniques including an ordinary differential equation integrator. \n",
    "\n",
    "    Methods for Integrating Functions given function object.\n",
    "\n",
    "       quad          -- General purpose integration.\n",
    "       dblquad       -- General purpose double integration.\n",
    "       tplquad       -- General purpose triple integration.\n",
    "       fixed_quad    -- Integrate func(x) using Gaussian quadrature of order n.\n",
    "       quadrature    -- Integrate with given tolerance using Gaussian quadrature.\n",
    "       romberg       -- Integrate func using Romberg integration.\n",
    "\n",
    "    Methods for Integrating Functions given fixed samples.\n",
    "\n",
    "       trapz         -- Use trapezoidal rule to compute integral from samples.\n",
    "       cumtrapz      -- Use trapezoidal rule to cumulatively compute integral.\n",
    "       simps         -- Use Simpson's rule to compute integral from samples.\n",
    "       romb          -- Use Romberg Integration to compute integral from\n",
    "                        (2**k + 1) evenly-spaced samples.\n",
    "\n",
    "       See the special module's orthogonal polynomials (special) for Gaussian\n",
    "          quadrature roots and weights for other weighting factors and regions.\n",
    "\n",
    "    Interface to numerical integrators of ODE systems.\n",
    "\n",
    "       odeint        -- General integration of ordinary differential equations.\n",
    "       ode           -- Integrate ODE using VODE and ZVODE routines."
   ]
  },
  {
   "cell_type": "markdown",
   "metadata": {},
   "source": [
    "### 1.1.1 General integration (quad)\n",
    "\n",
    "The function quad (quadrature integration) is provided to integrate a function of one variable between two points. The points can be ±∞ (± np.inf) to indicate infinite limits. \n",
    "\n",
    "---\n",
    "**Example 1:** Suppose you wish to integrate a standard normal distribution:\n",
    "\n",
    "$$\\Phi \\left( Z \\right) = \\int_{ - \\infty }^Z {\\frac{1}{\\sqrt {2\\pi }} e^{ - \\frac{x^2}{2}}} dx$$"
   ]
  },
  {
   "cell_type": "code",
   "execution_count": 3,
   "metadata": {
    "ExecuteTime": {
     "end_time": "2021-09-20T07:13:29.101767Z",
     "start_time": "2021-09-20T07:13:29.092266Z"
    }
   },
   "outputs": [
    {
     "data": {
      "text/plain": [
       "(0.4999999999999999, 5.089095660452871e-09)"
      ]
     },
     "execution_count": 3,
     "metadata": {},
     "output_type": "execute_result"
    }
   ],
   "source": [
    "def rho(x):\n",
    "    return math.exp(-0.5 * x**2.) / math.sqrt(2*math.pi)\n",
    "\n",
    "result = integrate.quad(rho,-np.inf, 0)\n",
    "result"
   ]
  },
  {
   "cell_type": "markdown",
   "metadata": {},
   "source": [
    "The first argument is the result of the integration and the second argument in the result is the upper bound on the error."
   ]
  },
  {
   "cell_type": "markdown",
   "metadata": {},
   "source": [
    "---\n",
    "\n",
    "**Example 2:** Handling multiple integration with quad function\n",
    "\n",
    "$$E_{n}\\left(x\\right)=\\int_{1}^{\\infty}\\frac{e^{-xt}}{t^{n}}\\, dt$$\n",
    "\n",
    "$$I_{n}=\\int_{0}^{\\infty}\\int_{1}^{\\infty}\\frac{e^{-xt}}{t^{n}}\\, dt\\, dx=\\frac{1}{n}$$"
   ]
  },
  {
   "cell_type": "code",
   "execution_count": 4,
   "metadata": {
    "ExecuteTime": {
     "end_time": "2021-09-20T07:13:29.126748Z",
     "start_time": "2021-09-20T07:13:29.103135Z"
    }
   },
   "outputs": [
    {
     "name": "stdout",
     "output_type": "stream",
     "text": [
      "result1 =  (0.33333333325010883, 2.8604069921197956e-09)\n",
      "result2 =  (0.33333333325010883, 2.8604069921197956e-09)\n"
     ]
    }
   ],
   "source": [
    "def integrand(t, n, x):\n",
    "    return math.exp(-x*t) / t**n\n",
    "\n",
    "def expint(n, x): #E(n,x)\n",
    "    r_enx = integrate.quad(integrand, 1, np.inf, args=(n, x))\n",
    "    return r_enx[0]\n",
    "\n",
    "result1 = integrate.quad(lambda x: expint(3, x), 0, np.inf)\n",
    "print(\"result1 = \", result1)\n",
    "\n",
    "# Alternative method without using lamda expression\n",
    "def n_expint(x):\n",
    "    return expint(3, x)\n",
    "\n",
    "result2 = integrate.quad(n_expint, 0, np.inf)\n",
    "print(\"result2 = \", result2)"
   ]
  },
  {
   "cell_type": "markdown",
   "metadata": {},
   "source": [
    "---\n",
    "\n",
    "**Exercise 1:** Evaluate the integral\n",
    "\n",
    "$$\\int_0^\\infty  {\\frac{1}{1 + {x^2}}} dx$$\n"
   ]
  },
  {
   "cell_type": "code",
   "execution_count": null,
   "metadata": {},
   "outputs": [],
   "source": []
  },
  {
   "cell_type": "markdown",
   "metadata": {},
   "source": [
    "---\n",
    "\n",
    "**Exercise 2:** The total power radiated per unit area is given by:\n",
    "\n",
    "$$I = \\sigma T^4$$\n",
    "\n",
    "or more precisely,\n",
    "\n",
    "$$I ={2\\pi(k T)^4 \\over c^2h^3}\\int_0^\\infty dx {x^3 \\over e^x-1}$$\n",
    "\n",
    "Show that $\\sigma = 5.67 \\times 10^{-8} W m^{-2} K^{-4}$.\n",
    "\n",
    "where,\n",
    "\n",
    "$k$ is the Boltzmann constant\n",
    "\n",
    "$c$ is the Speed of light in vacuum\n",
    "\n",
    "$h$ is the Planck constant\n",
    "\n",
    "(These constants can be imported from scipy)"
   ]
  },
  {
   "cell_type": "code",
   "execution_count": 5,
   "metadata": {
    "ExecuteTime": {
     "end_time": "2021-09-20T07:13:29.135042Z",
     "start_time": "2021-09-20T07:13:29.130196Z"
    }
   },
   "outputs": [],
   "source": [
    "from scipy import constants\n",
    "k = constants.k     # Boltzmann constant\n",
    "c = constants.c     # Speed of light in vacuum\n",
    "h = constants.h     # the Planck constant"
   ]
  },
  {
   "cell_type": "markdown",
   "metadata": {},
   "source": [
    "---\n",
    "### 1.1.2 General multiple integration (dblquad, tplquad, nquad)\n",
    "\n",
    "The mechanics for double and triple integration have been wrapped up into the functions dblquad and tplquad. These functions take the function to integrate and four, or six arguments, respectively. The limits of all inner integrals need to be defined as functions.\n",
    "\n",
    "Use the example intergral in the previous section for $I_n$:\n",
    "\n",
    "$$I_{n}=\\int_{0}^{\\infty}\\int_{1}^{\\infty}\\frac{e^{-xt}}{t^{n}}\\, dt\\, dx=\\frac{1}{n}$$"
   ]
  },
  {
   "cell_type": "code",
   "execution_count": 6,
   "metadata": {
    "ExecuteTime": {
     "end_time": "2021-09-20T07:13:29.154892Z",
     "start_time": "2021-09-20T07:13:29.137085Z"
    }
   },
   "outputs": [
    {
     "data": {
      "text/plain": [
       "(0.33333333325010883, 1.3888461883425516e-08)"
      ]
     },
     "execution_count": 6,
     "metadata": {},
     "output_type": "execute_result"
    }
   ],
   "source": [
    "def I(n):\n",
    "    return integrate.dblquad(lambda t, x: math.exp(-x*t)/t**n, 0, np.inf, lambda x: 1, lambda x: np.inf)\n",
    "\n",
    "I(3)"
   ]
  },
  {
   "cell_type": "code",
   "execution_count": 7,
   "metadata": {
    "ExecuteTime": {
     "end_time": "2021-09-20T07:13:29.190733Z",
     "start_time": "2021-09-20T07:13:29.156306Z"
    }
   },
   "outputs": [
    {
     "data": {
      "text/plain": [
       "(0.33333333325010883, 1.3888461883425516e-08)"
      ]
     },
     "execution_count": 7,
     "metadata": {},
     "output_type": "execute_result"
    }
   ],
   "source": [
    "def I(n):\n",
    "    def func(t, x):\n",
    "        return np.exp(-x*t)/t**n\n",
    "\n",
    "    def bound_a(x):\n",
    "        return 1\n",
    "\n",
    "    def bound_b(x):\n",
    "        return np.inf\n",
    "    result = integrate.dblquad(func, 0, np.inf, bound_a, bound_b)\n",
    "    return result\n",
    "\n",
    "\n",
    "I(3)"
   ]
  },
  {
   "cell_type": "markdown",
   "metadata": {},
   "source": [
    "---\n",
    "**Example 3:** Non-constant limits consider the integral\n",
    "\n",
    "$$I=\\int_{y=0}^{1/2}\\int_{x=0}^{1-2y} x y \\, dx\\, dy=\\frac{1}{96}$$"
   ]
  },
  {
   "cell_type": "code",
   "execution_count": 8,
   "metadata": {
    "ExecuteTime": {
     "end_time": "2021-09-20T07:13:29.199762Z",
     "start_time": "2021-09-20T07:13:29.192714Z"
    }
   },
   "outputs": [
    {
     "name": "stdout",
     "output_type": "stream",
     "text": [
      "0.010416666666666666\n"
     ]
    },
    {
     "data": {
      "text/plain": [
       "0.010416666666666668"
      ]
     },
     "execution_count": 8,
     "metadata": {},
     "output_type": "execute_result"
    }
   ],
   "source": [
    "area = integrate.dblquad(lambda x, y: x*y, 0, 0.5, lambda x: 0, lambda y: 1-2*y)\n",
    "\n",
    "print(1./96)\n",
    "area[0]"
   ]
  },
  {
   "cell_type": "markdown",
   "metadata": {},
   "source": [
    "---\n",
    "For n-fold integration, scipy provides the function nquad. The integration bounds are an iterable object: either a list of constant bounds, or a list of functions for the non-constant integration bounds. The order of integration (and therefore the bounds) is from the innermost integral to the outermost one.\n",
    "\n",
    "---\n",
    "**Example 4**: n-fold integration of integral from above\n",
    "\n",
    "$$I_{n}=\\int_{0}^{\\infty}\\int_{1}^{\\infty}\\frac{e^{-xt}}{t^{n}}\\, dt\\, dx=\\frac{1}{n}$$"
   ]
  },
  {
   "cell_type": "code",
   "execution_count": 9,
   "metadata": {
    "ExecuteTime": {
     "end_time": "2021-09-20T07:13:29.229853Z",
     "start_time": "2021-09-20T07:13:29.202043Z"
    }
   },
   "outputs": [
    {
     "data": {
      "text/plain": [
       "(0.33333333325010883, 1.3888461883425516e-08)"
      ]
     },
     "execution_count": 9,
     "metadata": {},
     "output_type": "execute_result"
    }
   ],
   "source": [
    "N = 3\n",
    "\n",
    "def f(t, x):\n",
    "    return np.exp(-x*t) / t**N\n",
    "\n",
    "integrate.nquad(f, [[1, np.inf],[0, np.inf]])"
   ]
  },
  {
   "cell_type": "markdown",
   "metadata": {},
   "source": [
    "---\n",
    "**Example 5:** n-fold integration of non-constant limits consider the integral"
   ]
  },
  {
   "cell_type": "code",
   "execution_count": 10,
   "metadata": {
    "ExecuteTime": {
     "end_time": "2021-09-20T07:13:29.235378Z",
     "start_time": "2021-09-20T07:13:29.231183Z"
    }
   },
   "outputs": [
    {
     "data": {
      "text/plain": [
       "0.010416666666666668"
      ]
     },
     "execution_count": 10,
     "metadata": {},
     "output_type": "execute_result"
    }
   ],
   "source": [
    "def f(x, y):\n",
    "    return x*y\n",
    "\n",
    "def bounds_y():\n",
    "    return [0, 0.5]\n",
    "\n",
    "def bounds_x(y):\n",
    "    return [0, 1-2*y]\n",
    "\n",
    "integrate.nquad(f, [bounds_x, bounds_y])[0]"
   ]
  },
  {
   "cell_type": "markdown",
   "metadata": {},
   "source": [
    "Same result as above!"
   ]
  },
  {
   "cell_type": "markdown",
   "metadata": {},
   "source": [
    "---\n",
    "**Exercise 3:**\n",
    "\n",
    "$$I=\\int_{y=0}^{1}\\int_{x=0}^{2} {e^{-xy}}\\, dx\\, dy$$"
   ]
  },
  {
   "cell_type": "code",
   "execution_count": 11,
   "metadata": {
    "ExecuteTime": {
     "end_time": "2021-09-20T07:13:29.241604Z",
     "start_time": "2021-09-20T07:13:29.237053Z"
    }
   },
   "outputs": [
    {
     "data": {
      "text/plain": [
       "1.3192633561695395"
      ]
     },
     "execution_count": 11,
     "metadata": {},
     "output_type": "execute_result"
    }
   ],
   "source": [
    "def f(x, y):\n",
    "    return np.exp(-x*y)\n",
    "\n",
    "\n",
    "def bounds_y():\n",
    "    return [0, 1]\n",
    "\n",
    "\n",
    "def bounds_x(x):\n",
    "    return [0, 2]\n",
    "\n",
    "\n",
    "integrate.nquad(f, [bounds_x, bounds_y])[0]"
   ]
  },
  {
   "cell_type": "markdown",
   "metadata": {},
   "source": [
    "---\n",
    "**Exercise 4:**\n",
    "\n",
    "$$I=\\int_{y=0}^{1}\\int_{x=0}^{\\sqrt{1-y^2}} {e^{-xy}}\\, dx\\, dy$$"
   ]
  },
  {
   "cell_type": "code",
   "execution_count": 12,
   "metadata": {
    "ExecuteTime": {
     "end_time": "2021-09-20T07:13:29.253687Z",
     "start_time": "2021-09-20T07:13:29.242957Z"
    }
   },
   "outputs": [
    {
     "data": {
      "text/plain": [
       "0.6751670568500855"
      ]
     },
     "execution_count": 12,
     "metadata": {},
     "output_type": "execute_result"
    }
   ],
   "source": [
    "def f(x, y):\n",
    "    return np.exp(-x*y)\n",
    "\n",
    "\n",
    "def bounds_y():\n",
    "    return [0, 1]\n",
    "\n",
    "\n",
    "def bounds_x(y):\n",
    "    return [0, np.sqrt(1-y**2)]\n",
    "\n",
    "\n",
    "integrate.nquad(f, [bounds_x, bounds_y])[0]"
   ]
  },
  {
   "cell_type": "markdown",
   "metadata": {},
   "source": [
    "What does non-constant limits do to the domain of integration?"
   ]
  }
 ],
 "metadata": {
  "interpreter": {
   "hash": "7300dbcb85785389b2be6172926bf1027114c8ade0a5353d546a0c9e4d0df56c"
  },
  "kernelspec": {
   "display_name": "Python 3 (ipykernel)",
   "language": "python",
   "name": "python3"
  },
  "language_info": {
   "codemirror_mode": {
    "name": "ipython",
    "version": 3
   },
   "file_extension": ".py",
   "mimetype": "text/x-python",
   "name": "python",
   "nbconvert_exporter": "python",
   "pygments_lexer": "ipython3",
   "version": "3.8.10"
  },
  "toc": {
   "base_numbering": 1,
   "nav_menu": {},
   "number_sections": true,
   "sideBar": true,
   "skip_h1_title": false,
   "title_cell": "Table of Contents",
   "title_sidebar": "Contents",
   "toc_cell": false,
   "toc_position": {},
   "toc_section_display": true,
   "toc_window_display": false
  }
 },
 "nbformat": 4,
 "nbformat_minor": 1
}
