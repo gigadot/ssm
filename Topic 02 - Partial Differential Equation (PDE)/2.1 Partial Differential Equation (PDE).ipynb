{
 "cells": [
  {
   "cell_type": "code",
   "execution_count": 1,
   "metadata": {
    "ExecuteTime": {
     "end_time": "2021-09-27T05:01:47.811101Z",
     "start_time": "2021-09-27T05:01:47.516283Z"
    }
   },
   "outputs": [],
   "source": [
    "import numpy as np\n",
    "import matplotlib.pyplot as plt\n",
    "import matplotlib.animation as animation"
   ]
  },
  {
   "cell_type": "markdown",
   "metadata": {},
   "source": [
    "## 2.1 Partial Differential Equation (PDE)"
   ]
  },
  {
   "cell_type": "markdown",
   "metadata": {
    "collapsed": true
   },
   "source": [
    "In previous lectures, we learn about solving the differential equations when the functions depend on exactly one variable, i.e. $x$ or $t$. However, the real physical phenomenon may involve more than one variables in the form of partial differential equations. For examples, wave equation, Schrodinger's equation, heat transfer, diffusion, electromanetism, etc. Let's use an example of wave in a string."
   ]
  },
  {
   "cell_type": "markdown",
   "metadata": {},
   "source": [
    "___\n",
    "### 2.1.1 Finite Difference Equations\n",
    "\n",
    "From the wave course, we know that the wave equation in string is given by:\n",
    "\n",
    "$$\\frac{{{\\partial ^2}u}}{{\\partial {t^2}}} = \\frac{T}{\\mu }\\frac{{{\\partial ^2}u}}{{\\partial {x^2}}}$$\n",
    "\n",
    "where $T$ and $\\mu$ are tension and mass density respectively and $u = u(x, t)$ is the wave function, i.e. displacement of wave as function of position and time."
   ]
  },
  {
   "cell_type": "markdown",
   "metadata": {
    "collapsed": true
   },
   "source": [
    "The second derivative can be approximated by\n",
    "\n",
    "$$\\frac{{{d^2}f(x)}}{{d{x^2}}} = \\frac{{f(x + h) - 2f(x) + f(x - h)}}{{{h^2}}} + O({h^3})$$\n"
   ]
  },
  {
   "cell_type": "markdown",
   "metadata": {},
   "source": [
    "In two dimensions of $(x,t)$, we impose a rectangular grid in space and time such that\n",
    "\n",
    "$$\\begin{array}{l}\n",
    "{x_i} = ih\\\\\n",
    "{t_j} = j\\delta \n",
    "\\end{array}$$\n",
    "\n",
    "where $i = 0, 1, 2, ..., N$ and $j = 0, 1, 2, ..., M$"
   ]
  },
  {
   "cell_type": "markdown",
   "metadata": {},
   "source": [
    "In the finite difference approximation to the wave equation is then:\n",
    "\n",
    "$$\\frac{{{\\partial ^2}u}}{{\\partial {t^2}}} \\approx \\frac{{{u_{i,j + 1}} - 2{u_{i,j}} + {u_{i,j - 1}}}}{{{\\delta ^2}}}$$"
   ]
  },
  {
   "cell_type": "markdown",
   "metadata": {},
   "source": [
    "$$\\frac{{{\\partial ^2}u}}{{\\partial {x^2}}} \\approx \\frac{{{u_{i + 1,j}} - 2{u_{i,j}} + {u_{i - 1,j}}}}{{{h^2}}}$$"
   ]
  },
  {
   "cell_type": "markdown",
   "metadata": {},
   "source": [
    "Substitue these approximation into the wave equation, we have\n",
    "\n",
    "$$\\frac{{{u_{i,j + 1}} - 2{u_{i,j}} + {u_{i,j - 1}}}}{{{\\delta ^2}}} = {c^2}\\frac{{{u_{i + 1,j}} - 2{u_{i,j}} + {u_{i - 1,j}}}}{{{h^2}}}$$\n",
    "\n",
    "where $c^2 = T/\\mu$, and $c$ is the speed of the wave in string."
   ]
  },
  {
   "cell_type": "markdown",
   "metadata": {
    "collapsed": true
   },
   "source": [
    "If the condition for $u(x, t=0)$ is known, then it is useful to solve for ${{u_{i,j + 1}}}$. Therefore, we will rearrange the equation above to make ${{u_{i,j + 1}}}$ a subject.\n",
    "\n",
    "$${u_{i,j + 1}} = \\frac{{{\\delta ^2}{c^2}}}{{{h^2}}}\\left( {{u_{i + 1,j}} + {u_{i - 1,j}}} \\right) + 2\\left( {1 - \\frac{{{\\delta ^2}{c^2}}}{{{h^2}}}} \\right){u_{i,j}} - {u_{i,j - 1}}$$"
   ]
  },
  {
   "cell_type": "markdown",
   "metadata": {},
   "source": [
    "This equation tells us that if we know $u$ at all $x_i$ at the times $t_j$ and $t_{j-1}$ then we can immediately determine $u$ at all $x_i$ at the next time step, $t_{j+1}$. This is said to be an ***explicit*** method for determining the solutions."
   ]
  },
  {
   "cell_type": "markdown",
   "metadata": {},
   "source": [
    "___\n",
    "### 2.2.2 Type of Boundary conditions\n",
    "\n",
    "The wave equation is given by\n",
    "\n",
    "$$\\frac{{{\\partial ^2}u}}{{\\partial {t^2}}} = c^2 \\frac{{{\\partial ^2}u}}{{\\partial {x^2}}}$$"
   ]
  },
  {
   "cell_type": "markdown",
   "metadata": {},
   "source": [
    "Unknown function $u$ depends on $x$ and $t$. To solve this, wee need to know the initial and boundary conditions:\n",
    "\n",
    "- Initial condition for $u(x,0)$\n",
    "- Initial condition for $u_t(x,0)$\n",
    "- Boundary condition at $x=0$\n",
    "- Boundary condition at $x=L$"
   ]
  },
  {
   "cell_type": "markdown",
   "metadata": {},
   "source": [
    "#### Initial conditions\n",
    "\n",
    "Most problem we will know the function:\n",
    "\n",
    "$$u(x, 0) = f(x)$$.\n",
    "\n",
    "If the wave if initially at rest, then we also know that\n",
    "\n",
    "$$\\frac{\\partial}{\\partial t}u(x,0) = 0$$\n"
   ]
  },
  {
   "cell_type": "markdown",
   "metadata": {},
   "source": [
    "#### Boundary conditions\n",
    "#### 1. Fixed boundaries\n",
    "\n",
    "At $x=0$ we will sometimes use the condition $u=0$, often known as a homogeneous **Dirichlet** condition. This condition will mirror the wave."
   ]
  },
  {
   "cell_type": "markdown",
   "metadata": {},
   "source": [
    "#### 2. Feeding a wave from the boundary\n",
    "\n",
    "We shall demonstrate the effect of moving $u$ at the boundary $x=0$ to feed the domain with an incoming wave. This is another type of **Dirichlet** condition. The boundary condition then reads\n",
    "\n",
    "$$u(0,t) = U_0(t)$$\n",
    "\n",
    "for some given function $U_0(t)$. A particular choice in a later demonstration is a sine function that is active in three different time intervals:\n",
    "\n",
    "$$U_0 (t) = \\left\\lbrace\\begin{array}{ll}\n",
    "\\frac{1}{4}\\sin(6\\pi t),& t\\in T\\\\\n",
    "0,& \\hbox{otherwise}\n",
    "\\end{array}\\right.$$\n",
    "\n",
    "The movement of $u$ at the boundary will produce a wave that is by the PDE transported to the right into the domain."
   ]
  },
  {
   "cell_type": "markdown",
   "metadata": {},
   "source": [
    "There is a small difficulty in the starting the solution since we usually won't know $u$ at two successive time steps. Rather, we might know $u(x_i, 0)$ and the derivative $\\frac{{\\partial u({x_i},0)}}{{\\partial t}}$ at all $x_i$. Then we have"
   ]
  },
  {
   "cell_type": "markdown",
   "metadata": {},
   "source": [
    "#### 3. Reflecting condition\n",
    "\n",
    "At $x=0$ and/or $x=L$ we will apply a reflecting or no-flux condition:\n",
    "\n",
    "$$\\frac{\\partial u}{\\partial x}=0$$\n",
    "\n",
    "This condition reflects the wave into the domain again, as a surface wave hits a vertical wave, runs up to the double amplitude, and propagates back into the domain again. This type of boundary condition is also referred to as a **Neumann** condition."
   ]
  },
  {
   "cell_type": "markdown",
   "metadata": {},
   "source": [
    "#### 4. Open boundary condition\n",
    "Very often one wants to let a wave travel through the boundary without being disturbed. Such a condition is called an open boundary condition, or a radiation condition, or an artificial boundary condition:\n",
    "\n",
    "$$\\begin{align}\n",
    "\\frac{\\partial u}{\\partial t} - c\\frac{\\partial u}{\\partial x} &= 0,\\quad x=0,\n",
    "\\\\\\frac{\\partial u}{\\partial t} + c\\frac{\\partial u}{\\partial x} &= 0,\\quad x=L\n",
    "\\end{align}$$\n",
    "\n",
    "These conditions work exactly in 1D, but are challenging to generalize and implement in 2D and 3D."
   ]
  },
  {
   "cell_type": "markdown",
   "metadata": {},
   "source": [
    "$${\\left. {\\frac{{\\partial u({x_i},t)}}{{\\partial t}}} \\right|_{t = 0}} = \\frac{{{u_{i,1}} - {u_{i, - 1}}}}{{2\\delta }}$$\n",
    "\n",
    "or \n",
    "\n",
    "$${u_{i, - 1}} = {u_{i,1}} - 2\\delta {\\left. {\\frac{{\\partial u({x_i},t)}}{{\\partial t}}} \\right|_{t = 0}}$$"
   ]
  },
  {
   "cell_type": "markdown",
   "metadata": {},
   "source": [
    "___\n",
    "### 2.2.3 Putting It All Together\n",
    "\n",
    "Assuming, the boundary condition on both ends are fixed to 0.\n",
    "\n",
    "With this expression for ${u_{i, - 1}}$, we can write the $j = 0$ case of the recurring equation for ${u_{i, j+ 1}}$, i.e. the solution at the first time step, as:\n",
    "\n",
    "$$ {u_{i,1}} = \\frac{{{\\delta ^2}{c^2}}}{{{h^2}}}\\left( {{u_{i + 1,0}} + {u_{i - 1,0}}} \\right) + 2\\left( {1 - \\frac{{{\\delta ^2}{c^2}}}{{{h^2}}}} \\right){u_{i,0}} - {u_{i,1}} + 2\\delta \\frac{{\\partial u({x_i},0)}}{{\\partial t}} $$\n",
    "\n",
    "or \n",
    "\n",
    "$$ {u_{i,1}} = \\frac{{{\\delta ^2}{c^2}}}{{2{h^2}}}\\left( {{u_{i + 1,0}} + {u_{i - 1,0}}} \\right) + \\left( {1 - \\frac{{{\\delta ^2}{c^2}}}{{{h^2}}}} \\right){u_{i,0}} + \\delta \\frac{{\\partial u({x_i},0)}}{{\\partial t}} $$"
   ]
  },
  {
   "cell_type": "markdown",
   "metadata": {},
   "source": [
    "Now we have equation for iterating the first step, and equation for iterating all steps after that. So, let's implement."
   ]
  },
  {
   "cell_type": "markdown",
   "metadata": {},
   "source": [
    "___\n",
    "**Exercise 1:** \n",
    "\n",
    "Initially, we deform the string so that it has a \"bump\" in the middle,\n",
    "\n",
    "$$u(x,0) = \\left\\{ {\\begin{array}{*{20}{c}}\n",
    "{\\begin{array}{*{20}{c}}\n",
    "{0,}\\\\\n",
    "{{e^{ - 100{{(x - 0.5)}^2}}},}\\\\\n",
    "{0,}\n",
    "\\end{array}}&{\\begin{array}{*{20}{c}}\n",
    "{x = 0}\\\\\n",
    "{0 < x < 1}\\\\\n",
    "{x = 1}\n",
    "\\end{array}}\n",
    "\\end{array}} \\right.$$\n",
    "\n",
    "Given that at $x=0$ the wave is mirrored (reversed phase or fixed boundary) but at $x=L=1$ the wave is reflecting condition (no reversed phase)\n",
    "\n",
    "Plot a time-animated graph to demonstrate this."
   ]
  },
  {
   "cell_type": "markdown",
   "metadata": {},
   "source": [
    "and it is motionless at $t=0$. Take $c^2 = 10000$, $l = 1 m$ $h=1$ and $\\delta = 0.0001$"
   ]
  },
  {
   "cell_type": "code",
   "execution_count": 4,
   "metadata": {
    "ExecuteTime": {
     "end_time": "2021-09-27T07:15:27.716675Z",
     "start_time": "2021-09-27T07:15:17.356443Z"
    }
   },
   "outputs": [
    {
     "data": {
      "image/png": "[encoded data removed]",
      "text/plain": [
       "<Figure size 432x288 with 1 Axes>"
      ]
     },
     "metadata": {
      "needs_background": "light"
     },
     "output_type": "display_data"
    }
   ],
   "source": [
    "# Set up an array of ux0\n",
    "x = np.linspace(0, 1., num=101, endpoint=True)\n",
    "Ux0 = np.exp(-100. * (x - 0.5)**2)\n",
    "\n",
    "# ensuring both ends are fixed at zero\n",
    "Ux0[0] = 0\n",
    "Ux0[100] = 0\n",
    "\n",
    "Uold = Ux0\n",
    "# Set up initial condition for the time derivative at t = 0\n",
    "dUx0 = np.zeros(101)\n",
    "\n",
    "dt = 0.0001  # Set up time step size\n",
    "dh = 0.01  # Spatial step size\n",
    "c = 100\n",
    "eps = ((dt*c / dh)**2)\n",
    "\n",
    "\n",
    "# Calculate time step j = 1\n",
    "Uxj = np.zeros(101)\n",
    "for i in np.linspace(1, 99, 99, dtype=int):\n",
    "    Uxj[i] = 0.5 * eps * (Ux0[i+1] + Ux0[i-1]) + \\\n",
    "        (1. - eps) * (Ux0[i]) + dt * dUx0[i]\n",
    "\n",
    "UAll = np.array([Uxj])\n",
    "fig1 = plt.figure()\n",
    "l = plt.plot(x, Uxj)\n",
    "axes = plt.gca()\n",
    "axes.set_ylim([-1, 1])\n",
    "\n",
    "for j in range(200):\n",
    "    Unew = np.zeros(101)\n",
    "    for i in np.linspace(1, 99, 99, dtype=int):\n",
    "        Unew[i] = eps * (Uxj[i+1] + Uxj[i-1]) + 2. * \\\n",
    "            (1. - eps) * Uxj[i] - Uold[i]\n",
    "    Uold = Uxj\n",
    "    Uxj = Unew\n",
    "    UAll = np.vstack([UAll, Unew])\n",
    "    # if j > 30:\n",
    "    #    plt.plot(x, Unew)\n",
    "\n",
    "\n",
    "def update_line(num, line):\n",
    "    line.set_data(x, UAll[num])\n",
    "    return line,\n",
    "\n",
    "\n",
    "plt.grid()\n",
    "line_ani = animation.FuncAnimation(\n",
    "    fig1, update_line, 200, fargs=(l), interval=20, blit=True)\n",
    "line_ani.save('wave-in-string.mp4', fps=30, extra_args=['-vcodec', 'libx264'])\n",
    "plt.show()"
   ]
  },
  {
   "cell_type": "markdown",
   "metadata": {},
   "source": [
    "---\n",
    "**Exercise 2:** \n",
    "\n",
    "Try the same problem as **Exercise 1** but use $u(x, 0) = 0$ for all $x$ as initial condition.\n",
    "\n",
    "The boundary condition at $x = 0$ is the **feeding wave into the string condition**, which is given by: \n",
    "\n",
    "$$u(0, t) = \\left\\lbrace\\begin{array}{ll}\n",
    "2\\sin(8\\pi t),& t\\in {0, \\frac{1}{4}}\\\\\n",
    "0,& \\hbox{otherwise}\n",
    "\\end{array}\\right.$$\n",
    "\n",
    "and the boundary condition on the other end, $x = L$ is an **open boundary condition**.\n",
    "\n",
    "Plot a time-animated graph to demonstrate this."
   ]
  },
  {
   "cell_type": "code",
   "execution_count": null,
   "metadata": {},
   "outputs": [],
   "source": []
  }
 ],
 "metadata": {
  "kernelspec": {
   "display_name": "Python 3 (ipykernel)",
   "language": "python",
   "name": "python3"
  },
  "language_info": {
   "codemirror_mode": {
    "name": "ipython",
    "version": 3
   },
   "file_extension": ".py",
   "mimetype": "text/x-python",
   "name": "python",
   "nbconvert_exporter": "python",
   "pygments_lexer": "ipython3",
   "version": "3.8.10"
  },
  "toc": {
   "base_numbering": 1,
   "nav_menu": {},
   "number_sections": true,
   "sideBar": true,
   "skip_h1_title": false,
   "title_cell": "Table of Contents",
   "title_sidebar": "Contents",
   "toc_cell": false,
   "toc_position": {},
   "toc_section_display": true,
   "toc_window_display": false
  }
 },
 "nbformat": 4,
 "nbformat_minor": 1
}
