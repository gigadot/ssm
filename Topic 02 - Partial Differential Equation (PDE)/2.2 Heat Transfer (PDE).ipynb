{
 "cells": [
  {
   "cell_type": "markdown",
   "metadata": {},
   "source": [
    "## 2.2 Heat Transfer (PDE)"
   ]
  },
  {
   "cell_type": "markdown",
   "metadata": {
    "collapsed": true
   },
   "source": [
    "**Exercise 1:** Heat transfer\n",
    "\n",
    "Use finite differential method to solve a heat transfer equation, given by\n",
    "\n",
    "$$ \\frac{{\\partial T}}{{\\partial t}} = k\\frac{{{\\partial ^2}T}}{{\\partial {x^2}}} $$"
   ]
  },
  {
   "cell_type": "markdown",
   "metadata": {},
   "source": [
    "Suppose we have a rod of length 1. At $x=0$ the temperature varies as $T(t,0)= 1$. At $x=1$ the edge is kept at a constant temperature of $T(t,1) = 0$. The thermal diffusivity is $k = 0.2$."
   ]
  },
  {
   "cell_type": "markdown",
   "metadata": {
    "collapsed": true
   },
   "source": [
    "$$\\frac{{{\\partial ^2}T}}{{\\partial {x^2}}} \\approx \\frac{{{T_{i + 1,j}} - 2{T_{i,j}} + {T_{i - 1,j}}}}{{{\\delta ^2}}}$$\n",
    "\n",
    "$$\\frac{{\\partial T}}{{\\partial t}} \\approx \\frac{{{T_{i,j + 1}} - {T_{i,j}}}}{\\eta }$$"
   ]
  },
  {
   "cell_type": "markdown",
   "metadata": {},
   "source": [
    "$$\\begin{array}{l}\n",
    "{x_i} = i\\delta \\\\\n",
    "{t_j} = j\\eta\n",
    "\\end{array}$$\n",
    "\n",
    "where $i = 0, 1, 2, ..., N$ and $j = 0, 1, 2, ..., M$"
   ]
  },
  {
   "cell_type": "markdown",
   "metadata": {},
   "source": [
    "$$\\frac{{{T_{i,j + 1}} - {T_{i,j}}}}{\\eta } = k\\frac{{{T_{i + 1,j}} - 2{T_{i,j}} + {T_{i - 1,j}}}}{{{\\delta ^2}}}$$\n",
    "\n",
    "Let $\\varepsilon  = \\frac{{k\\eta }}{{{\\delta ^2}}}$\n",
    "\n",
    "$${T_{i,j + 1}} - {T_{i,j}} = \\varepsilon \\left( {{T_{i + 1,j}} - 2{T_{i,j}} + {T_{i - 1,j}}} \\right)$$\n",
    "\n",
    "$${T_{i,j + 1}} = \\varepsilon \\left( {{T_{i + 1,j}} - 2{T_{i,j}} + {T_{i - 1,j}}} \\right) + {T_{i,j}}$$"
   ]
  },
  {
   "cell_type": "code",
   "execution_count": 122,
   "metadata": {},
   "outputs": [],
   "source": [
    "import numpy as np\n",
    "import matplotlib.pyplot as plt\n",
    "import matplotlib.animation as animation\n"
   ]
  },
  {
   "cell_type": "markdown",
   "metadata": {},
   "source": [
    "---\n",
    "**Exercise 2:** Time dependent boundary condition for 1D Heat transfer\n",
    "\n",
    "Same problem as exercise 1 but at $x=0$ the temperature varies as $T(t,0)=sin(10t)$."
   ]
  },
  {
   "cell_type": "code",
   "execution_count": null,
   "metadata": {
    "collapsed": true
   },
   "outputs": [],
   "source": []
  },
  {
   "cell_type": "markdown",
   "metadata": {},
   "source": [
    "---\n",
    "**Exercise 3:** Superposition of solution\n",
    "\n",
    "Same problem as exercise 1 but at $x=0$ the temperature varies as $T(t,0)=sin(10t)$ and at At $x=1$ the temperature varies as $T(t,0)={e^{ - 100{{(t - 0.15)}^2}}}$."
   ]
  },
  {
   "cell_type": "code",
   "execution_count": null,
   "metadata": {
    "collapsed": true
   },
   "outputs": [],
   "source": []
  }
 ],
 "metadata": {
  "kernelspec": {
   "display_name": "Python 3 (ipykernel)",
   "language": "python",
   "name": "python3"
  },
  "language_info": {
   "codemirror_mode": {
    "name": "ipython",
    "version": 3
   },
   "file_extension": ".py",
   "mimetype": "text/x-python",
   "name": "python",
   "nbconvert_exporter": "python",
   "pygments_lexer": "ipython3",
   "version": "3.9.7"
  }
 },
 "nbformat": 4,
 "nbformat_minor": 1
}
