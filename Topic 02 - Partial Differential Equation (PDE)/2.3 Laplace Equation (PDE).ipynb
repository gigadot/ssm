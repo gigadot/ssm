{
 "cells": [
  {
   "cell_type": "markdown",
   "metadata": {},
   "source": [
    "## 2.3 Laplace equation (PDE)\n",
    "\n",
    "Laplace equation is one of the most common equation in physics, whose soltuion is generally hard to obtained without numerical method. The form of the equation is given by\n",
    "\n",
    "$${\\nabla ^2}u = \\frac{{{\\partial ^2}u}}{{\\partial {x^2}}} + \\frac{{{\\partial ^2}u}}{{\\partial {y^2}}} = 0$$\n",
    "\n",
    "This may look similar to wave equation but the finite element method taught for solving wave equation does not work with the laplace equation. The reason is that the boundary conditions are given for both $x$ and $y$ at all 4 boundaries, (versus, 3 boundaries for wave)."
   ]
  },
  {
   "cell_type": "markdown",
   "metadata": {
    "collapsed": true
   },
   "source": [
    "**Exercise 1:** Steady-State for Heat transfer in 2D\n",
    "\n",
    "The heat transfer equation for 2D is given by\n",
    "\n",
    "$$\\frac{{\\partial T}}{{\\partial t}} = k{\\nabla ^2}T = k\\left( {\\frac{{{\\partial ^2}T}}{{\\partial {x^2}}} + \\frac{{{\\partial ^2}T}}{{\\partial {y^2}}}} \\right)$$"
   ]
  },
  {
   "cell_type": "markdown",
   "metadata": {},
   "source": [
    "To prevent confusion, we are going to use $u = T$, so the equation is now"
   ]
  },
  {
   "cell_type": "markdown",
   "metadata": {
    "collapsed": true
   },
   "source": [
    "$$\\frac{{\\partial u}}{{\\partial t}} = k{\\nabla ^2}u = k\\left( {\\frac{{{\\partial ^2}u}}{{\\partial {x^2}}} + \\frac{{{\\partial ^2}u}}{{\\partial {y^2}}}} \\right)$$"
   ]
  },
  {
   "cell_type": "markdown",
   "metadata": {},
   "source": [
    "If the soltuion is steady-state, the time derivative is zero:\n",
    "\n",
    "$$ {\\frac{{{\\partial ^2}u}}{{\\partial {x^2}}} + \\frac{{{\\partial ^2}u}}{{\\partial {y^2}}}} = 0$$"
   ]
  },
  {
   "cell_type": "markdown",
   "metadata": {},
   "source": [
    "Using finite element method we can discretise the problem to:\n",
    "\n",
    "$$\\frac{{{\\partial ^2}u}}{{\\partial {y^2}}} \\approx \\frac{{{u_{i,j + 1}} - 2{u_{i,j}} + {u_{i,j - 1}}}}{{{\\delta ^2}}}$$\n",
    "\n",
    "$$\\frac{{{\\partial ^2}u}}{{\\partial {x^2}}} \\approx \\frac{{{u_{i + 1,j}} - 2{u_{i,j}} + {u_{i - 1,j}}}}{{{\\eta ^2}}}$$\n",
    "\n",
    "$$\\frac{{{u_{i,j + 1}} - 2{u_{i,j}} + {u_{i,j - 1}}}}{{{\\delta ^2}}} + \\frac{{{u_{i + 1,j}} - 2{u_{i,j}} + {u_{i - 1,j}}}}{{{\\eta ^2}}} = 0$$\n",
    "\n",
    "$${u_{i,j}} = \\frac{{{\\delta ^2}{\\eta ^2}}}{{2{\\delta ^2} + 2{\\eta ^2}}}\\left[ {\\frac{{{u_{i + 1,j}} + {u_{i - 1,j}}}}{{{\\delta ^2}}} + \\frac{{{u_{i,j + 1}} + {u_{i,j - 1}}}}{{{\\eta ^2}}}} \\right]$$\n",
    "\n",
    "if ${\\delta } = {\\eta }$, then the equation is reduced to much simpler form:\n",
    "\n",
    "$${u_{i,j}} = \\frac{1}{4}\\left[ {{u_{i + 1,j}} + {u_{i - 1,j}} + {u_{i,j + 1}} + {u_{i,j - 1}}} \\right]$$"
   ]
  },
  {
   "cell_type": "markdown",
   "metadata": {},
   "source": [
    "**Exercise:**\n",
    "\n",
    "Solve 2D heat equation for the following boundary conditions:\n",
    "\n",
    "$$\\begin{array}{l}\n",
    "u(x,0) = \\sin (2\\pi x)\\\\\n",
    "u(x,1) = \\sin (2\\pi x)\\\\\n",
    "u(0,y) = \\sin (3\\pi y)\\\\\n",
    "u(1,y) = \\sin (\\pi y)\n",
    "\\end{array}$$"
   ]
  },
  {
   "cell_type": "code",
   "execution_count": 29,
   "metadata": {},
   "outputs": [],
   "source": [
    "import numpy as np\n",
    "import matplotlib.pyplot as plt\n",
    "import matplotlib.animation as animation\n"
   ]
  },
  {
   "cell_type": "code",
   "execution_count": null,
   "metadata": {
    "collapsed": true
   },
   "outputs": [],
   "source": []
  }
 ],
 "metadata": {
  "kernelspec": {
   "display_name": "Python 3 (ipykernel)",
   "language": "python",
   "name": "python3"
  },
  "language_info": {
   "codemirror_mode": {
    "name": "ipython",
    "version": 3
   },
   "file_extension": ".py",
   "mimetype": "text/x-python",
   "name": "python",
   "nbconvert_exporter": "python",
   "pygments_lexer": "ipython3",
   "version": "3.9.7"
  }
 },
 "nbformat": 4,
 "nbformat_minor": 1
}
